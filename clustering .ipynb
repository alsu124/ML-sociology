{
 "cells": [
  {
   "cell_type": "markdown",
   "metadata": {},
   "source": [
    "# Кластеризация данных слушаний Москвы"
   ]
  },
  {
   "cell_type": "markdown",
   "metadata": {},
   "source": [
    "### Данные\n",
    "\n",
    "В предложенных файлах информация с публичных слушаний Москвы по правилам землепользования и застройки (ПЗЗ). В них комментарии жителей города были застенагрофированы, проклассифицированы (за/против) и нанесены на карту. Данные предоставлены в 2 вариантах, для задания можно использовать любой:\n",
    "* geo_comment.xlsx\n",
    "    * **comment** - комментарий одного или списка жителей к проект\n",
    "    * **multiplier** - количество авторов комментария (может быть 1, может быть список)\n",
    "    * **x, y** - координаты адреса, по которому был дан определённой комментарий\n",
    "    * **comment_class** - за (1) / против (-1)\n",
    "* geo.xlsx - те же данные, но без текстов комментариев и по 1 голосу на строку (ранее в 1 строке могло быть **multiplier** > 1 голоса)\n",
    "    * **x, y** - координаты адреса, по которому был дан определённой комментарий\n",
    "    * **comment_class** - за (1) / против (-1)\n",
    "    \n",
    "### Обязательное задание\n",
    "\n",
    "* визуально разделить город на районы безотносительно голосов (провести кластеризацию и вывести картинку)\n",
    "* аналогично исследовать скопления голосов за и против отдельно\n",
    "* *подобрать оптимальное число кластеров при помощи кода из тетрадки в конце занятия (оптимально)*\n",
    "* приложить ноутбук\n",
    "\n",
    "### Дополнительные задания\n",
    "* найти наиболее активные в голосовании районы *(подсказка: DBSCAN, не плотные районы обозначены одной меткой и закрашены одним цветом, cmap='gray')*\n",
    "* для тех, кто уже попробовал работу с текстом: выделить основные тематики комментариев жителей, можно использовать всю имеющуюся дополнительную информацию"
   ]
  },
  {
   "cell_type": "markdown",
   "metadata": {},
   "source": [
    "# EDA"
   ]
  },
  {
   "cell_type": "code",
   "execution_count": 1,
   "metadata": {},
   "outputs": [],
   "source": [
    "import pandas as pd\n",
    "import numpy as np\n",
    "import os"
   ]
  },
  {
   "cell_type": "code",
   "execution_count": 2,
   "metadata": {},
   "outputs": [],
   "source": [
    "geo_comment_raw = pd.read_excel('geo_comment.xlsx')\n",
    "geo_raw = pd.read_excel('geo.xlsx')"
   ]
  },
  {
   "cell_type": "code",
   "execution_count": 3,
   "metadata": {},
   "outputs": [
    {
     "data": {
      "text/html": [
       "<div>\n",
       "<style scoped>\n",
       "    .dataframe tbody tr th:only-of-type {\n",
       "        vertical-align: middle;\n",
       "    }\n",
       "\n",
       "    .dataframe tbody tr th {\n",
       "        vertical-align: top;\n",
       "    }\n",
       "\n",
       "    .dataframe thead th {\n",
       "        text-align: right;\n",
       "    }\n",
       "</style>\n",
       "<table border=\"1\" class=\"dataframe\">\n",
       "  <thead>\n",
       "    <tr style=\"text-align: right;\">\n",
       "      <th></th>\n",
       "      <th>x</th>\n",
       "      <th>y</th>\n",
       "      <th>comment_class</th>\n",
       "      <th>multiplier</th>\n",
       "      <th>comment</th>\n",
       "    </tr>\n",
       "  </thead>\n",
       "  <tbody>\n",
       "    <tr>\n",
       "      <th>0</th>\n",
       "      <td>37.612416</td>\n",
       "      <td>55.777454</td>\n",
       "      <td>-1</td>\n",
       "      <td>1</td>\n",
       "      <td>Во все разделы правил землепользования и застр...</td>\n",
       "    </tr>\n",
       "    <tr>\n",
       "      <th>1</th>\n",
       "      <td>37.612416</td>\n",
       "      <td>55.777454</td>\n",
       "      <td>-1</td>\n",
       "      <td>1</td>\n",
       "      <td>На основании вступившего в законную силу судеб...</td>\n",
       "    </tr>\n",
       "    <tr>\n",
       "      <th>2</th>\n",
       "      <td>37.603298</td>\n",
       "      <td>55.742108</td>\n",
       "      <td>-1</td>\n",
       "      <td>1</td>\n",
       "      <td>Внести в Проект правил землепользования и заст...</td>\n",
       "    </tr>\n",
       "    <tr>\n",
       "      <th>3</th>\n",
       "      <td>37.558526</td>\n",
       "      <td>55.728758</td>\n",
       "      <td>-1</td>\n",
       "      <td>1</td>\n",
       "      <td>Учитывая социальную значимость проекта строите...</td>\n",
       "    </tr>\n",
       "    <tr>\n",
       "      <th>4</th>\n",
       "      <td>37.566431</td>\n",
       "      <td>55.731794</td>\n",
       "      <td>-1</td>\n",
       "      <td>1</td>\n",
       "      <td>Учитывая социальную значимость проекта строите...</td>\n",
       "    </tr>\n",
       "  </tbody>\n",
       "</table>\n",
       "</div>"
      ],
      "text/plain": [
       "           x          y  comment_class  multiplier  \\\n",
       "0  37.612416  55.777454             -1           1   \n",
       "1  37.612416  55.777454             -1           1   \n",
       "2  37.603298  55.742108             -1           1   \n",
       "3  37.558526  55.728758             -1           1   \n",
       "4  37.566431  55.731794             -1           1   \n",
       "\n",
       "                                             comment  \n",
       "0  Во все разделы правил землепользования и застр...  \n",
       "1  На основании вступившего в законную силу судеб...  \n",
       "2  Внести в Проект правил землепользования и заст...  \n",
       "3  Учитывая социальную значимость проекта строите...  \n",
       "4  Учитывая социальную значимость проекта строите...  "
      ]
     },
     "execution_count": 3,
     "metadata": {},
     "output_type": "execute_result"
    }
   ],
   "source": [
    "geo_comment_raw.head()"
   ]
  },
  {
   "cell_type": "code",
   "execution_count": 4,
   "metadata": {},
   "outputs": [
    {
     "name": "stdout",
     "output_type": "stream",
     "text": [
      "<class 'pandas.core.frame.DataFrame'>\n",
      "Int64Index: 70382 entries, 0 to 70381\n",
      "Data columns (total 5 columns):\n",
      "x                70382 non-null float64\n",
      "y                70382 non-null float64\n",
      "comment_class    70382 non-null int64\n",
      "multiplier       70382 non-null int64\n",
      "comment          70382 non-null object\n",
      "dtypes: float64(2), int64(2), object(1)\n",
      "memory usage: 3.2+ MB\n"
     ]
    }
   ],
   "source": [
    "geo_comment_raw.info()"
   ]
  },
  {
   "cell_type": "code",
   "execution_count": 5,
   "metadata": {},
   "outputs": [
    {
     "data": {
      "text/html": [
       "<div>\n",
       "<style scoped>\n",
       "    .dataframe tbody tr th:only-of-type {\n",
       "        vertical-align: middle;\n",
       "    }\n",
       "\n",
       "    .dataframe tbody tr th {\n",
       "        vertical-align: top;\n",
       "    }\n",
       "\n",
       "    .dataframe thead th {\n",
       "        text-align: right;\n",
       "    }\n",
       "</style>\n",
       "<table border=\"1\" class=\"dataframe\">\n",
       "  <thead>\n",
       "    <tr style=\"text-align: right;\">\n",
       "      <th></th>\n",
       "      <th>x</th>\n",
       "      <th>y</th>\n",
       "      <th>comment_class</th>\n",
       "    </tr>\n",
       "  </thead>\n",
       "  <tbody>\n",
       "    <tr>\n",
       "      <th>0</th>\n",
       "      <td>37.612416</td>\n",
       "      <td>55.777454</td>\n",
       "      <td>-1</td>\n",
       "    </tr>\n",
       "    <tr>\n",
       "      <th>1</th>\n",
       "      <td>37.612416</td>\n",
       "      <td>55.777454</td>\n",
       "      <td>-1</td>\n",
       "    </tr>\n",
       "    <tr>\n",
       "      <th>2</th>\n",
       "      <td>37.603298</td>\n",
       "      <td>55.742108</td>\n",
       "      <td>-1</td>\n",
       "    </tr>\n",
       "    <tr>\n",
       "      <th>3</th>\n",
       "      <td>37.558526</td>\n",
       "      <td>55.728758</td>\n",
       "      <td>-1</td>\n",
       "    </tr>\n",
       "    <tr>\n",
       "      <th>4</th>\n",
       "      <td>37.566431</td>\n",
       "      <td>55.731794</td>\n",
       "      <td>-1</td>\n",
       "    </tr>\n",
       "  </tbody>\n",
       "</table>\n",
       "</div>"
      ],
      "text/plain": [
       "           x          y  comment_class\n",
       "0  37.612416  55.777454             -1\n",
       "1  37.612416  55.777454             -1\n",
       "2  37.603298  55.742108             -1\n",
       "3  37.558526  55.728758             -1\n",
       "4  37.566431  55.731794             -1"
      ]
     },
     "execution_count": 5,
     "metadata": {},
     "output_type": "execute_result"
    }
   ],
   "source": [
    "geo_raw.head()"
   ]
  },
  {
   "cell_type": "code",
   "execution_count": 6,
   "metadata": {},
   "outputs": [
    {
     "name": "stdout",
     "output_type": "stream",
     "text": [
      "<class 'pandas.core.frame.DataFrame'>\n",
      "Int64Index: 108806 entries, 0 to 108805\n",
      "Data columns (total 3 columns):\n",
      "x                108806 non-null float64\n",
      "y                108806 non-null float64\n",
      "comment_class    108806 non-null int64\n",
      "dtypes: float64(2), int64(1)\n",
      "memory usage: 3.3 MB\n"
     ]
    }
   ],
   "source": [
    "geo_raw.info()"
   ]
  },
  {
   "cell_type": "code",
   "execution_count": 7,
   "metadata": {},
   "outputs": [
    {
     "data": {
      "text/plain": [
       "True"
      ]
     },
     "execution_count": 7,
     "metadata": {},
     "output_type": "execute_result"
    }
   ],
   "source": [
    "geo_comment_raw.multiplier.sum() == len(geo_raw)"
   ]
  },
  {
   "cell_type": "code",
   "execution_count": 8,
   "metadata": {},
   "outputs": [
    {
     "data": {
      "text/plain": [
       "-1    95147\n",
       " 1    13659\n",
       "Name: comment_class, dtype: int64"
      ]
     },
     "execution_count": 8,
     "metadata": {},
     "output_type": "execute_result"
    }
   ],
   "source": [
    "geo_raw.comment_class.value_counts(dropna=False)"
   ]
  },
  {
   "cell_type": "code",
   "execution_count": 9,
   "metadata": {},
   "outputs": [
    {
     "data": {
      "text/html": [
       "<div>\n",
       "<style scoped>\n",
       "    .dataframe tbody tr th:only-of-type {\n",
       "        vertical-align: middle;\n",
       "    }\n",
       "\n",
       "    .dataframe tbody tr th {\n",
       "        vertical-align: top;\n",
       "    }\n",
       "\n",
       "    .dataframe thead th {\n",
       "        text-align: right;\n",
       "    }\n",
       "</style>\n",
       "<table border=\"1\" class=\"dataframe\">\n",
       "  <thead>\n",
       "    <tr style=\"text-align: right;\">\n",
       "      <th></th>\n",
       "      <th>longitude</th>\n",
       "      <th>latitude</th>\n",
       "      <th>comment_class</th>\n",
       "      <th>multiplier</th>\n",
       "      <th>comment</th>\n",
       "    </tr>\n",
       "  </thead>\n",
       "  <tbody>\n",
       "    <tr>\n",
       "      <th>0</th>\n",
       "      <td>37.612416</td>\n",
       "      <td>55.777454</td>\n",
       "      <td>-1</td>\n",
       "      <td>1</td>\n",
       "      <td>Во все разделы правил землепользования и застр...</td>\n",
       "    </tr>\n",
       "    <tr>\n",
       "      <th>1</th>\n",
       "      <td>37.612416</td>\n",
       "      <td>55.777454</td>\n",
       "      <td>-1</td>\n",
       "      <td>1</td>\n",
       "      <td>На основании вступившего в законную силу судеб...</td>\n",
       "    </tr>\n",
       "  </tbody>\n",
       "</table>\n",
       "</div>"
      ],
      "text/plain": [
       "   longitude   latitude  comment_class  multiplier  \\\n",
       "0  37.612416  55.777454             -1           1   \n",
       "1  37.612416  55.777454             -1           1   \n",
       "\n",
       "                                             comment  \n",
       "0  Во все разделы правил землепользования и застр...  \n",
       "1  На основании вступившего в законную силу судеб...  "
      ]
     },
     "execution_count": 9,
     "metadata": {},
     "output_type": "execute_result"
    }
   ],
   "source": [
    "geo_comment_raw.columns = ['longitude', 'latitude', 'comment_class', 'multiplier', 'comment']\n",
    "geo_comment_raw.head(2)"
   ]
  },
  {
   "cell_type": "code",
   "execution_count": 10,
   "metadata": {},
   "outputs": [
    {
     "data": {
      "text/html": [
       "<div>\n",
       "<style scoped>\n",
       "    .dataframe tbody tr th:only-of-type {\n",
       "        vertical-align: middle;\n",
       "    }\n",
       "\n",
       "    .dataframe tbody tr th {\n",
       "        vertical-align: top;\n",
       "    }\n",
       "\n",
       "    .dataframe thead th {\n",
       "        text-align: right;\n",
       "    }\n",
       "</style>\n",
       "<table border=\"1\" class=\"dataframe\">\n",
       "  <thead>\n",
       "    <tr style=\"text-align: right;\">\n",
       "      <th></th>\n",
       "      <th>longitude</th>\n",
       "      <th>latitude</th>\n",
       "      <th>comment_class</th>\n",
       "    </tr>\n",
       "  </thead>\n",
       "  <tbody>\n",
       "    <tr>\n",
       "      <th>0</th>\n",
       "      <td>37.612416</td>\n",
       "      <td>55.777454</td>\n",
       "      <td>-1</td>\n",
       "    </tr>\n",
       "    <tr>\n",
       "      <th>1</th>\n",
       "      <td>37.612416</td>\n",
       "      <td>55.777454</td>\n",
       "      <td>-1</td>\n",
       "    </tr>\n",
       "  </tbody>\n",
       "</table>\n",
       "</div>"
      ],
      "text/plain": [
       "   longitude   latitude  comment_class\n",
       "0  37.612416  55.777454             -1\n",
       "1  37.612416  55.777454             -1"
      ]
     },
     "execution_count": 10,
     "metadata": {},
     "output_type": "execute_result"
    }
   ],
   "source": [
    "geo_raw.columns = ['longitude', 'latitude', 'comment_class']\n",
    "geo_raw.head(2)"
   ]
  },
  {
   "cell_type": "markdown",
   "metadata": {},
   "source": [
    "## Intial Drawings"
   ]
  },
  {
   "cell_type": "code",
   "execution_count": 11,
   "metadata": {},
   "outputs": [],
   "source": [
    "from matplotlib import pyplot as plt\n",
    "%matplotlib inline"
   ]
  },
  {
   "cell_type": "code",
   "execution_count": 12,
   "metadata": {},
   "outputs": [
    {
     "data": {
      "text/plain": [
       "<matplotlib.collections.PathCollection at 0x7fd18dc0fc18>"
      ]
     },
     "execution_count": 12,
     "metadata": {},
     "output_type": "execute_result"
    },
    {
     "data": {
      "image/png": "[encoded data removed]",
      "text/plain": [
       "<Figure size 1080x720 with 1 Axes>"
      ]
     },
     "metadata": {
      "needs_background": "light"
     },
     "output_type": "display_data"
    }
   ],
   "source": [
    "plt.figure(figsize=(15,10))\n",
    "plt.scatter(geo_raw.longitude,geo_raw.latitude,alpha=0.1)"
   ]
  },
  {
   "cell_type": "code",
   "execution_count": 13,
   "metadata": {},
   "outputs": [],
   "source": [
    "from gmplot import gmplot\n",
    "gmap = gmplot.GoogleMapPlotter(geo_raw.latitude.mean(), geo_raw.longitude.mean(), 9)\n",
    "gmap.heatmap(geo_raw.latitude,geo_raw.longitude)\n",
    "gmap.draw(\"my_map.html\")"
   ]
  },
  {
   "cell_type": "markdown",
   "metadata": {},
   "source": [
    "![title](SIMPLE_HEATMAP.png)"
   ]
  },
  {
   "cell_type": "markdown",
   "metadata": {},
   "source": [
    "# Common code"
   ]
  },
  {
   "cell_type": "code",
   "execution_count": 14,
   "metadata": {},
   "outputs": [],
   "source": [
    "#support code to define convex hull for set of points\n",
    "def split(u, v, points):\n",
    "    # return points on left side of UV\n",
    "    return [p for p in points if np.cross(p - u, v - u) < 0]\n",
    "\n",
    "def extend(u, v, points):\n",
    "    if not points:\n",
    "        return []\n",
    "\n",
    "    # find furthest point W, and split search to WV, UW\n",
    "    w = min(points, key=lambda p: np.cross(p - u, v - u))\n",
    "    p1, p2 = split(w, v, points), split(u, w, points)\n",
    "    return extend(w, v, p1) + [w] + extend(u, w, p2)\n",
    "\n",
    "def convex_hull(points):\n",
    "    # find two hull points, U, V, and split to left and right search\n",
    "    u = min(points, key=lambda p: p[0])\n",
    "    v = max(points, key=lambda p: p[0])\n",
    "    left, right = split(u, v, points), split(v, u, points)\n",
    "\n",
    "    # find convex hull on each side\n",
    "    points = []\n",
    "    for each in [v] + extend(u, v, left) + [u] + extend(v, u, right) + [v]:\n",
    "        points.append(list(each))\n",
    "    return np.array(points)"
   ]
  },
  {
   "cell_type": "code",
   "execution_count": 15,
   "metadata": {},
   "outputs": [],
   "source": [
    "#generate random hex color\n",
    "import random\n",
    "def rand_color_hex():\n",
    "    return '#%02X%02X%02X' % (random.randint(0,255),random.randint(0,255),random.randint(0,255))"
   ]
  },
  {
   "cell_type": "code",
   "execution_count": 16,
   "metadata": {},
   "outputs": [],
   "source": [
    "from gmplot import gmplot\n",
    "def draw_cluster_random_color(geo_data,pred_series,restrict=[]):\n",
    "    color_map = [rand_color_hex() for _ in range(0,pred_series.max()+1)]\n",
    "    # Place map\n",
    "    gmap = gmplot.GoogleMapPlotter(geo_raw.latitude.mean(), geo_raw.longitude.mean(), 9)\n",
    "    for each in range(0,pred_series.max()+1):\n",
    "        if (len(restrict)==0) or (each in restrict):\n",
    "            points = convex_hull(np.array(geo_data[pred_series==each]))\n",
    "            gmap.plot(points[:,0], points[:,1], color_map[each], edge_width=10)\n",
    "    gmap.draw(\"my_map.html\")"
   ]
  },
  {
   "cell_type": "markdown",
   "metadata": {},
   "source": [
    "# DBSCAN clustering"
   ]
  },
  {
   "cell_type": "markdown",
   "metadata": {},
   "source": [
    "## All classes"
   ]
  },
  {
   "cell_type": "code",
   "execution_count": 17,
   "metadata": {},
   "outputs": [],
   "source": [
    "X = geo_raw[['latitude','longitude']]"
   ]
  },
  {
   "cell_type": "code",
   "execution_count": 18,
   "metadata": {},
   "outputs": [],
   "source": [
    "from sklearn.preprocessing import StandardScaler\n",
    "ss = StandardScaler()\n",
    "ss.fit(X)\n",
    "X_all = ss.transform(X)"
   ]
  },
  {
   "cell_type": "code",
   "execution_count": 19,
   "metadata": {},
   "outputs": [],
   "source": [
    "from sklearn.cluster import DBSCAN\n",
    "dbs = DBSCAN(n_jobs=1,eps=0.1, min_samples=len(X_all)/1000) #eps selected to make number of cluster reasonable\n",
    "predictions = dbs.fit_predict(X_all)"
   ]
  },
  {
   "cell_type": "code",
   "execution_count": 20,
   "metadata": {},
   "outputs": [
    {
     "name": "stdout",
     "output_type": "stream",
     "text": [
      "Number of clusters 54\n"
     ]
    }
   ],
   "source": [
    "#count number of clusters with DBSCAN\n",
    "print(f\"Number of clusters {predictions.max()}\")\n",
    "\n",
    "pred_series = pd.Series(predictions)"
   ]
  },
  {
   "cell_type": "code",
   "execution_count": 21,
   "metadata": {},
   "outputs": [],
   "source": [
    "draw_cluster_random_color(X,pred_series)"
   ]
  },
  {
   "cell_type": "markdown",
   "metadata": {},
   "source": [
    "![title](DBSCAN_IGNORE_CLASS.png)"
   ]
  },
  {
   "cell_type": "markdown",
   "metadata": {},
   "source": [
    "## Only negatives"
   ]
  },
  {
   "cell_type": "code",
   "execution_count": 22,
   "metadata": {},
   "outputs": [],
   "source": [
    "X_neg = geo_raw[['latitude','longitude']][geo_raw.comment_class==-1].reset_index().drop('index',axis=1)"
   ]
  },
  {
   "cell_type": "code",
   "execution_count": 23,
   "metadata": {},
   "outputs": [],
   "source": [
    "ss_neg = StandardScaler()\n",
    "ss_neg.fit(X_neg)\n",
    "X_neg_scaled = ss_neg.transform(X_neg)"
   ]
  },
  {
   "cell_type": "code",
   "execution_count": 24,
   "metadata": {},
   "outputs": [],
   "source": [
    "dbc_neg = DBSCAN(n_jobs=1,eps=0.1,min_samples=len(X_neg_scaled)/1000)\n",
    "prediction_neg = dbc_neg.fit_predict(X_neg_scaled)"
   ]
  },
  {
   "cell_type": "code",
   "execution_count": 25,
   "metadata": {},
   "outputs": [
    {
     "name": "stdout",
     "output_type": "stream",
     "text": [
      "Number of clusters 54\n"
     ]
    }
   ],
   "source": [
    "#count number of clusters with DBSCAN\n",
    "print(f\"Number of clusters {prediction_neg.max()}\")\n",
    "\n",
    "pred_neg_series = pd.Series(prediction_neg)"
   ]
  },
  {
   "cell_type": "code",
   "execution_count": 26,
   "metadata": {},
   "outputs": [],
   "source": [
    "draw_cluster_random_color(X_neg[['latitude','longitude']],pred_neg_series)"
   ]
  },
  {
   "cell_type": "markdown",
   "metadata": {},
   "source": [
    "![title](DBSCAN_ONLY_NEG.png)"
   ]
  },
  {
   "cell_type": "markdown",
   "metadata": {},
   "source": [
    "## Only positive"
   ]
  },
  {
   "cell_type": "code",
   "execution_count": 27,
   "metadata": {},
   "outputs": [],
   "source": [
    "X_pos = geo_raw[['latitude','longitude']][geo_raw.comment_class==1].reset_index().drop('index',axis=1)"
   ]
  },
  {
   "cell_type": "code",
   "execution_count": 28,
   "metadata": {},
   "outputs": [],
   "source": [
    "ss_pos = StandardScaler()\n",
    "ss_pos.fit(X_pos)\n",
    "X_pos_scaled = ss_pos.transform(X_pos)"
   ]
  },
  {
   "cell_type": "code",
   "execution_count": 29,
   "metadata": {},
   "outputs": [],
   "source": [
    "dbc_pos = DBSCAN(n_jobs=1,eps=0.1,min_samples=len(X_pos_scaled)/1000)\n",
    "prediction_pos = dbc_pos.fit_predict(X_pos_scaled)"
   ]
  },
  {
   "cell_type": "code",
   "execution_count": 30,
   "metadata": {},
   "outputs": [
    {
     "name": "stdout",
     "output_type": "stream",
     "text": [
      "Number of clusters 37\n"
     ]
    }
   ],
   "source": [
    "#count number of clusters with DBSCAN\n",
    "print(f\"Number of clusters {prediction_pos.max()}\")\n",
    "\n",
    "pred_pos_series = pd.Series(prediction_pos)"
   ]
  },
  {
   "cell_type": "code",
   "execution_count": 31,
   "metadata": {},
   "outputs": [],
   "source": [
    "draw_cluster_random_color(X_pos[['latitude','longitude']],pred_pos_series)"
   ]
  },
  {
   "cell_type": "markdown",
   "metadata": {},
   "source": [
    "![title](DBSCAN_ONLY_POSITIVE.png)"
   ]
  },
  {
   "cell_type": "markdown",
   "metadata": {},
   "source": [
    "# KMEANS clustering"
   ]
  },
  {
   "cell_type": "code",
   "execution_count": 32,
   "metadata": {},
   "outputs": [],
   "source": [
    "X_km = geo_raw[['latitude','longitude']]"
   ]
  },
  {
   "cell_type": "code",
   "execution_count": 33,
   "metadata": {},
   "outputs": [],
   "source": [
    "ss_km = StandardScaler()\n",
    "ss_km.fit(X_km)\n",
    "X_all_km = ss_km.transform(X_km)"
   ]
  },
  {
   "cell_type": "code",
   "execution_count": 34,
   "metadata": {},
   "outputs": [],
   "source": [
    "from sklearn.cluster import KMeans"
   ]
  },
  {
   "cell_type": "code",
   "execution_count": 35,
   "metadata": {},
   "outputs": [
    {
     "data": {
      "text/plain": [
       "15"
      ]
     },
     "execution_count": 35,
     "metadata": {},
     "output_type": "execute_result"
    }
   ],
   "source": [
    "k_inertia = []\n",
    "ks = range(1,30)\n",
    "\n",
    "for k in ks:\n",
    "    km = KMeans(n_clusters=k, random_state=42)\n",
    "    clusters_kmeans = km.fit_predict(X_all_km, )\n",
    "    k_inertia.append(km.inertia_)\n",
    "diff = np.diff(k_inertia)\n",
    "diff_r = diff[1:] / diff[:-1]\n",
    "k_opt = ks[np.argmin(diff_r)+1]\n",
    "k_opt"
   ]
  },
  {
   "cell_type": "code",
   "execution_count": 36,
   "metadata": {},
   "outputs": [],
   "source": [
    "km = KMeans(n_clusters=k_opt, random_state=42)\n",
    "predictions_km = km.fit_predict(X_all_km)"
   ]
  },
  {
   "cell_type": "code",
   "execution_count": 37,
   "metadata": {},
   "outputs": [],
   "source": [
    "pred_km_series = pd.Series(predictions_km)"
   ]
  },
  {
   "cell_type": "code",
   "execution_count": 38,
   "metadata": {},
   "outputs": [],
   "source": [
    "draw_cluster_random_color(X_km,pred_km_series)"
   ]
  },
  {
   "cell_type": "markdown",
   "metadata": {},
   "source": [
    "![title](KMEANS_15.png)"
   ]
  },
  {
   "cell_type": "markdown",
   "metadata": {},
   "source": [
    "## [EXTRA] Find top denisity voting districts"
   ]
  },
  {
   "cell_type": "markdown",
   "metadata": {},
   "source": [
    "## Top voters by count"
   ]
  },
  {
   "cell_type": "code",
   "execution_count": 39,
   "metadata": {},
   "outputs": [],
   "source": [
    "topn = 5\n",
    "top_voters = pred_series[pred_series!=-1].value_counts(normalize=True).head(topn).index\n",
    "top_voters_predictions = pred_series[pred_series.isin(top_voters)]"
   ]
  },
  {
   "cell_type": "code",
   "execution_count": 40,
   "metadata": {},
   "outputs": [],
   "source": [
    "X_all_top = X[pred_series.isin(top_voters_predictions)]"
   ]
  },
  {
   "cell_type": "code",
   "execution_count": 41,
   "metadata": {},
   "outputs": [],
   "source": [
    "draw_cluster_random_color(X_all_top,top_voters_predictions,top_voters)"
   ]
  },
  {
   "cell_type": "markdown",
   "metadata": {
    "scrolled": true
   },
   "source": [
    "![title](TOP5_VOTERS.png)"
   ]
  },
  {
   "cell_type": "markdown",
   "metadata": {},
   "source": [
    "## Top voters by density"
   ]
  },
  {
   "cell_type": "code",
   "execution_count": 42,
   "metadata": {},
   "outputs": [],
   "source": [
    "#support function to get area of polygon on Earth's surface\n",
    "def reproject(latitude, longitude):\n",
    "    \"\"\"Returns the x & y coordinates in meters using a sinusoidal projection\"\"\"\n",
    "    from math import pi, cos, radians\n",
    "    earth_radius = 6371009 # in meters\n",
    "    lat_dist = pi * earth_radius / 180.0\n",
    "\n",
    "    y = [lat * lat_dist for lat in latitude]\n",
    "    x = [long * lat_dist * cos(radians(lat)) \n",
    "                for lat, long in zip(latitude, longitude)]\n",
    "    return x, y\n",
    "def area_of_polygon(x, y):\n",
    "    \"\"\"Calculates the area of an arbitrary polygon given its verticies\"\"\"\n",
    "    area = 0.0\n",
    "    for i in range(-1, len(x)-1):\n",
    "        area += x[i] * (y[i+1] - y[i-1])\n",
    "    return abs(area) / 2.0\n",
    "\n",
    "from shapely.geometry import Polygon"
   ]
  },
  {
   "cell_type": "code",
   "execution_count": 43,
   "metadata": {},
   "outputs": [],
   "source": [
    "densities = {}\n",
    "some_house_area = 100*20 + 90*20 #https://yandex.ru/maps/213/moscow/?ll=37.569489%2C55.782327&z=17.5\n",
    "for each in range(0,pred_series.max()+1):\n",
    "    points = convex_hull(np.array(X[pred_series==each]))\n",
    "    rprj = reproject(points[:,0],points[:,1])\n",
    "    #some areas are very small, substitue it with one house area\n",
    "    area = max(Polygon(list(zip(rprj[0], rprj[1]))).area,some_house_area)     \n",
    "    population = len(pred_series[pred_series==each])\n",
    "    #normalize a bit\n",
    "    density = 1000 * population/area\n",
    "    densities[each] = density"
   ]
  },
  {
   "cell_type": "code",
   "execution_count": 44,
   "metadata": {},
   "outputs": [],
   "source": [
    "top_voters_dens = sorted(densities,key=lambda x: densities[x], reverse=True)[:5]\n",
    "top_voters_predictions_dens = pred_series[pred_series.isin(top_voters_dens)]\n",
    "X_all_top_dens = X[pred_series.isin(top_voters_predictions_dens)]"
   ]
  },
  {
   "cell_type": "code",
   "execution_count": 45,
   "metadata": {},
   "outputs": [],
   "source": [
    "draw_cluster_random_color(X_all_top_dens,top_voters_predictions_dens,top_voters_dens)"
   ]
  },
  {
   "cell_type": "markdown",
   "metadata": {},
   "source": [
    "![title](DBSCAN_TOP5_DENSE.png)"
   ]
  },
  {
   "cell_type": "markdown",
   "metadata": {},
   "source": [
    "### Conclusion:\n",
    "With DBSCAN very small but dense regions are treated as separate clusters, which is not very representitve from densivity analysis point of view. At the same time it highlight five very active local communities in big city."
   ]
  },
  {
   "cell_type": "markdown",
   "metadata": {},
   "source": [
    "## Top voters by density KMEANS"
   ]
  },
  {
   "cell_type": "code",
   "execution_count": 46,
   "metadata": {},
   "outputs": [],
   "source": [
    "densities = {}\n",
    "some_house_area = 100*20 + 90*20 #https://yandex.ru/maps/213/moscow/?ll=37.569489%2C55.782327&z=17.5\n",
    "for each in range(0,pred_km_series.max()+1):\n",
    "    points = convex_hull(np.array(X[pred_km_series==each]))\n",
    "    rprj = reproject(points[:,0],points[:,1])\n",
    "    #some areas are very small, substitue it with one house area\n",
    "    area = max(Polygon(list(zip(rprj[0], rprj[1]))).area,some_house_area)     \n",
    "    population = len(pred_km_series[pred_km_series==each])\n",
    "    #normalize a bit\n",
    "    density = 1000 * population/area\n",
    "    densities[each] = density"
   ]
  },
  {
   "cell_type": "code",
   "execution_count": 47,
   "metadata": {},
   "outputs": [],
   "source": [
    "top_voters_dens_km = sorted(densities,key=lambda x: densities[x], reverse=True)[:5]\n",
    "top_voters_predictions_dens_km = pred_km_series[pred_km_series.isin(top_voters_dens_km)]\n",
    "X_all_top_dens_km = X[pred_km_series.isin(top_voters_predictions_dens_km)]"
   ]
  },
  {
   "cell_type": "code",
   "execution_count": 48,
   "metadata": {},
   "outputs": [],
   "source": [
    "draw_cluster_random_color(X_all_top_dens_km,top_voters_predictions_dens_km,top_voters_dens_km)"
   ]
  },
  {
   "cell_type": "markdown",
   "metadata": {},
   "source": [
    "![title](KMEANS_TOP5_DENSE.png)\n"
   ]
  },
  {
   "cell_type": "markdown",
   "metadata": {},
   "source": [
    "### Conclusion:\n",
    "With KMEANS regions are bigger and any data point is associated with come cluster, so they result much bigger.Such analysis show bigger picture and, at least visually, match quite well to heat map."
   ]
  }
 ],
 "metadata": {
  "anaconda-cloud": {},
  "kernelspec": {
   "display_name": "Python 3",
   "language": "python",
   "name": "python3"
  },
  "language_info": {
   "codemirror_mode": {
    "name": "ipython",
    "version": 3
   },
   "file_extension": ".py",
   "mimetype": "text/x-python",
   "name": "python",
   "nbconvert_exporter": "python",
   "pygments_lexer": "ipython3",
   "version": "3.7.3"
  }
 },
 "nbformat": 4,
 "nbformat_minor": 2
}
